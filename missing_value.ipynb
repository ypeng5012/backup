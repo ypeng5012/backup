{
 "cells": [
  {
   "cell_type": "markdown",
   "metadata": {},
   "source": [
    "#  Short-term Traffic Counts  Missing Data Techiniques Comparison  "
   ]
  },
  {
   "cell_type": "markdown",
   "metadata": {},
   "source": [
    "### Introduction\n",
    "In order to compare the effective of traffic count  missing data imputation techniques, experiments were conducted for scenarios  of the combination of different daily traffic volumes levels  and proportions of missing data.\n",
    "    \n",
    "MAG 2010 dataset was used for the experiment. Traffic counts of two days from the same location and same direction (N/E or S/W) were chosen for analysis.\n",
    " \n",
    " Assuming data are missing by block (continuous points) and missing data are starting from 8am (Start from point 32). Four missing scenarios were considered:\n",
    " - 1 hours (4/96) 8am-9m\n",
    " - 2 hours (8/96) 8am-10am\n",
    " - 4 hours (16/96) 8am-12pm\n",
    " - 8 hours (32/96) 8am-4pm\n",
    " \n",
    " The following missing value techniques were used and compared:\n",
    " \n",
    " -  Last observation carried forward or Next observation carried backward\n",
    " -  Linear regression\n",
    " -  Locally weighted regression\n",
    " -  k-nearest neighbors\n",
    " \n",
    " Performance measures: \n",
    " - RMSE percent: RMSE/average count\n",
    " - Correlation coefficient r\n",
    " \n",
    " In the end,  performance measures by volume group are summarized: \n",
    " - 100,000 or more\n",
    " - 50,000~99,999\n",
    " - 10,000~49,999\n",
    " - 5,000~9,999\n",
    " - 1,000~4,999\n",
    " - Less than 1,000"
   ]
  },
  {
   "cell_type": "markdown",
   "metadata": {},
   "source": [
    "# 1. Input Data & Data preparation"
   ]
  },
  {
   "cell_type": "code",
   "execution_count": 205,
   "metadata": {},
   "outputs": [],
   "source": [
    "import os\n",
    "import pandas as pd\n",
    "import numpy as np\n",
    "from itertools import chain\n",
    "import random\n",
    "#import scipy.interpolate\n",
    "from sklearn import datasets, linear_model\n",
    "from sklearn.metrics import mean_squared_error\n",
    "from math import sqrt\n",
    "import statsmodels.api as sm\n",
    "from scipy.spatial import distance\n",
    "import statistics as stp"
   ]
  },
  {
   "cell_type": "code",
   "execution_count": 380,
   "metadata": {
    "scrolled": true
   },
   "outputs": [],
   "source": [
    "os.chdir('I:/10_STAFF/YP/Data Smoothing Techniques  Comparison')\n",
    "df= pd.read_csv('15min.csv')\n",
    "df_blocks= pd.read_csv('missing_block.csv')\n",
    "df=df[df['Num_of_Days']==2]\n",
    "df[\"Loc_ID\"] = df[\"Site_ID\"].map(str) + df[\"True_Dir\"]\n",
    "df_1=df[df['Day']==1].sample(500, random_state =1)\n",
    "df_2=df[df['Day']==2]\n",
    "df_2=df_2[df_2['Loc_ID'].isin(df_1['Loc_ID'])]\n",
    "\n",
    "df1=df_1.append(df_2, ignore_index=True).sort_values(by=['Loc_ID', 'Day'])"
   ]
  },
  {
   "cell_type": "code",
   "execution_count": 381,
   "metadata": {
    "scrolled": true
   },
   "outputs": [],
   "source": [
    "#df1=df1[df1['Total']>100000]"
   ]
  },
  {
   "cell_type": "code",
   "execution_count": 382,
   "metadata": {},
   "outputs": [],
   "source": [
    "#df_blocks"
   ]
  },
  {
   "cell_type": "code",
   "execution_count": 383,
   "metadata": {},
   "outputs": [
    {
     "data": {
      "text/html": [
       "<div>\n",
       "<style scoped>\n",
       "    .dataframe tbody tr th:only-of-type {\n",
       "        vertical-align: middle;\n",
       "    }\n",
       "\n",
       "    .dataframe tbody tr th {\n",
       "        vertical-align: top;\n",
       "    }\n",
       "\n",
       "    .dataframe thead th {\n",
       "        text-align: right;\n",
       "    }\n",
       "</style>\n",
       "<table border=\"1\" class=\"dataframe\">\n",
       "  <thead>\n",
       "    <tr style=\"text-align: right;\">\n",
       "      <th></th>\n",
       "      <th>Day</th>\n",
       "      <th>1</th>\n",
       "      <th>2</th>\n",
       "      <th>3</th>\n",
       "      <th>4</th>\n",
       "      <th>5</th>\n",
       "      <th>6</th>\n",
       "      <th>7</th>\n",
       "      <th>8</th>\n",
       "      <th>9</th>\n",
       "      <th>...</th>\n",
       "      <th>88</th>\n",
       "      <th>89</th>\n",
       "      <th>90</th>\n",
       "      <th>91</th>\n",
       "      <th>92</th>\n",
       "      <th>93</th>\n",
       "      <th>94</th>\n",
       "      <th>95</th>\n",
       "      <th>96</th>\n",
       "      <th>Loc_ID</th>\n",
       "    </tr>\n",
       "  </thead>\n",
       "  <tbody>\n",
       "    <tr>\n",
       "      <th>270</th>\n",
       "      <td>1</td>\n",
       "      <td>20</td>\n",
       "      <td>9</td>\n",
       "      <td>14</td>\n",
       "      <td>9.0</td>\n",
       "      <td>7</td>\n",
       "      <td>7</td>\n",
       "      <td>6</td>\n",
       "      <td>9</td>\n",
       "      <td>8</td>\n",
       "      <td>...</td>\n",
       "      <td>69</td>\n",
       "      <td>50</td>\n",
       "      <td>33</td>\n",
       "      <td>38</td>\n",
       "      <td>35</td>\n",
       "      <td>41</td>\n",
       "      <td>22</td>\n",
       "      <td>21</td>\n",
       "      <td>20</td>\n",
       "      <td>T0001NB</td>\n",
       "    </tr>\n",
       "    <tr>\n",
       "      <th>500</th>\n",
       "      <td>2</td>\n",
       "      <td>18</td>\n",
       "      <td>15</td>\n",
       "      <td>15</td>\n",
       "      <td>18.0</td>\n",
       "      <td>10</td>\n",
       "      <td>11</td>\n",
       "      <td>16</td>\n",
       "      <td>12</td>\n",
       "      <td>11</td>\n",
       "      <td>...</td>\n",
       "      <td>54</td>\n",
       "      <td>62</td>\n",
       "      <td>35</td>\n",
       "      <td>34</td>\n",
       "      <td>32</td>\n",
       "      <td>31</td>\n",
       "      <td>30</td>\n",
       "      <td>32</td>\n",
       "      <td>25</td>\n",
       "      <td>T0001NB</td>\n",
       "    </tr>\n",
       "    <tr>\n",
       "      <th>351</th>\n",
       "      <td>1</td>\n",
       "      <td>15</td>\n",
       "      <td>7</td>\n",
       "      <td>9</td>\n",
       "      <td>8.0</td>\n",
       "      <td>12</td>\n",
       "      <td>9</td>\n",
       "      <td>5</td>\n",
       "      <td>5</td>\n",
       "      <td>7</td>\n",
       "      <td>...</td>\n",
       "      <td>69</td>\n",
       "      <td>37</td>\n",
       "      <td>31</td>\n",
       "      <td>31</td>\n",
       "      <td>35</td>\n",
       "      <td>31</td>\n",
       "      <td>15</td>\n",
       "      <td>17</td>\n",
       "      <td>17</td>\n",
       "      <td>T0003SB</td>\n",
       "    </tr>\n",
       "    <tr>\n",
       "      <th>697</th>\n",
       "      <td>2</td>\n",
       "      <td>6</td>\n",
       "      <td>13</td>\n",
       "      <td>4</td>\n",
       "      <td>11.0</td>\n",
       "      <td>6</td>\n",
       "      <td>9</td>\n",
       "      <td>9</td>\n",
       "      <td>4</td>\n",
       "      <td>5</td>\n",
       "      <td>...</td>\n",
       "      <td>41</td>\n",
       "      <td>30</td>\n",
       "      <td>45</td>\n",
       "      <td>37</td>\n",
       "      <td>15</td>\n",
       "      <td>27</td>\n",
       "      <td>29</td>\n",
       "      <td>14</td>\n",
       "      <td>25</td>\n",
       "      <td>T0003SB</td>\n",
       "    </tr>\n",
       "    <tr>\n",
       "      <th>327</th>\n",
       "      <td>1</td>\n",
       "      <td>16</td>\n",
       "      <td>30</td>\n",
       "      <td>12</td>\n",
       "      <td>20.0</td>\n",
       "      <td>16</td>\n",
       "      <td>7</td>\n",
       "      <td>12</td>\n",
       "      <td>12</td>\n",
       "      <td>16</td>\n",
       "      <td>...</td>\n",
       "      <td>66</td>\n",
       "      <td>58</td>\n",
       "      <td>50</td>\n",
       "      <td>54</td>\n",
       "      <td>45</td>\n",
       "      <td>29</td>\n",
       "      <td>41</td>\n",
       "      <td>38</td>\n",
       "      <td>20</td>\n",
       "      <td>T0005SB</td>\n",
       "    </tr>\n",
       "  </tbody>\n",
       "</table>\n",
       "<p>5 rows × 98 columns</p>\n",
       "</div>"
      ],
      "text/plain": [
       "     Day   1   2   3     4   5   6   7   8   9   ...     88  89  90  91  92  \\\n",
       "270    1  20   9  14   9.0   7   7   6   9   8   ...     69  50  33  38  35   \n",
       "500    2  18  15  15  18.0  10  11  16  12  11   ...     54  62  35  34  32   \n",
       "351    1  15   7   9   8.0  12   9   5   5   7   ...     69  37  31  31  35   \n",
       "697    2   6  13   4  11.0   6   9   9   4   5   ...     41  30  45  37  15   \n",
       "327    1  16  30  12  20.0  16   7  12  12  16   ...     66  58  50  54  45   \n",
       "\n",
       "     93  94  95  96   Loc_ID  \n",
       "270  41  22  21  20  T0001NB  \n",
       "500  31  30  32  25  T0001NB  \n",
       "351  31  15  17  17  T0003SB  \n",
       "697  27  29  14  25  T0003SB  \n",
       "327  29  41  38  20  T0005SB  \n",
       "\n",
       "[5 rows x 98 columns]"
      ]
     },
     "execution_count": 383,
     "metadata": {},
     "output_type": "execute_result"
    }
   ],
   "source": [
    "df2=pd.concat([df1.iloc[:,5], df1.iloc[:,9:106]], axis=1)\n",
    "df2.head()"
   ]
  },
  {
   "cell_type": "markdown",
   "metadata": {},
   "source": [
    "# 2. Data Imputation"
   ]
  },
  {
   "cell_type": "markdown",
   "metadata": {},
   "source": [
    "try one missing scenario first"
   ]
  },
  {
   "cell_type": "code",
   "execution_count": 467,
   "metadata": {
    "scrolled": false
   },
   "outputs": [
    {
     "name": "stderr",
     "output_type": "stream",
     "text": [
      "C:\\ProgramData\\Anaconda3\\lib\\site-packages\\ipykernel_launcher.py:5: SettingWithCopyWarning: \n",
      "A value is trying to be set on a copy of a slice from a DataFrame\n",
      "\n",
      "See the caveats in the documentation: http://pandas.pydata.org/pandas-docs/stable/indexing.html#indexing-view-versus-copy\n",
      "  \"\"\"\n",
      "C:\\ProgramData\\Anaconda3\\lib\\site-packages\\ipykernel_launcher.py:101: FutureWarning: reshape is deprecated and will raise in a subsequent release. Please use .values.reshape(...) instead\n",
      "C:\\ProgramData\\Anaconda3\\lib\\site-packages\\ipykernel_launcher.py:152: FutureWarning: reshape is deprecated and will raise in a subsequent release. Please use .values.reshape(...) instead\n"
     ]
    },
    {
     "name": "stdout",
     "output_type": "stream",
     "text": [
      "      Loc_ID  RMSE1    r1    d1  RMSE2    r2   R^2    d2  RMSE3    r3    d3  \\\n",
      "0    T0001NB   0.12  0.92  0.00   0.12  0.92  0.97  0.00   0.12  0.92  0.00   \n",
      "1    T0003SB   0.11  0.60  0.00   0.11  0.60  0.94  0.00   0.12  0.60  0.00   \n",
      "2    T0005SB   0.14  0.89  0.00   0.15  0.89  0.96  0.00   0.15  0.88  0.00   \n",
      "3    T0006NB   0.12  0.80  0.00   0.13  0.80  0.95  0.00   0.12  0.80  0.00   \n",
      "4    T0007NB   0.09  0.96  0.00   0.09  0.96  0.97  0.00   0.08  0.96  0.00   \n",
      "5    T0007SB   0.11  0.59  0.00   0.10  0.59  0.96  0.00   0.10  0.58  0.00   \n",
      "6    T0009SB   0.08  0.96  0.00   0.09  0.96  0.97  0.00   0.08  0.95  0.00   \n",
      "7    T0010SB   0.17  0.76  0.00   0.17  0.76  0.96  0.00   0.17  0.76  0.00   \n",
      "8    T0013NB   0.16  0.80  0.00   0.15  0.80  0.95  0.00   0.15  0.80  0.00   \n",
      "9    T0014NB   0.21  0.43  0.00   0.23  0.43  0.84  0.00   0.23  0.43  0.00   \n",
      "10   T0015SB   0.13  0.73  0.00   0.13  0.73  0.96  0.00   0.13  0.73  0.00   \n",
      "11   T0017NB   0.39  0.69  0.01   0.44  0.69  0.74  0.01   0.32  0.69  0.00   \n",
      "12   T0019NB   0.11  0.83  0.00   0.10  0.83  0.94  0.00   0.11  0.82  0.00   \n",
      "13   T0019SB   0.13  0.92  0.00   0.13  0.92  0.94  0.00   0.13  0.92  0.00   \n",
      "14   T0020SB   0.15  0.93  0.00   0.13  0.93  0.96  0.00   0.13  0.93  0.00   \n",
      "15   T0022SB   0.16  0.66  0.00   0.18  0.66  0.95  0.00   0.18  0.67  0.00   \n",
      "16   T0023SB   0.12  0.28  0.00   0.12  0.28  0.95  0.00   0.11  0.28  0.00   \n",
      "17   T0027SB   0.18  0.72  0.00   0.18  0.72  0.93  0.00   0.18  0.72  0.00   \n",
      "18   T0031NB   0.17  0.22  0.00   0.17  0.22  0.97  0.00   0.17  0.22  0.00   \n",
      "19   T0031SB   0.15  0.72  0.00   0.13  0.72  0.93  0.00   0.13  0.72  0.00   \n",
      "20   T0032SB   0.07  0.87  0.00   0.07  0.87  0.96  0.00   0.07  0.87  0.00   \n",
      "21   T0034NB   0.10  0.86  0.00   0.11  0.86  0.89  0.00   0.11  0.86  0.00   \n",
      "22   T0035NB   0.12  0.88  0.00   0.22  0.88  0.92  0.00   0.25  0.87  0.00   \n",
      "23   T0037NB   0.16  0.04  0.00   0.15  0.04  0.97  0.00   0.15  0.04  0.00   \n",
      "24   T0037SB   0.14  0.87  0.00   0.14  0.87  0.95  0.00   0.14  0.86  0.00   \n",
      "25   T0040NB   0.17  0.99  0.00   0.17  0.99  0.97  0.00   0.19  0.99  0.00   \n",
      "26   T0041NB   0.12  0.63  0.00   0.12  0.63  0.93  0.00   0.11  0.63  0.00   \n",
      "27   T0043NB   0.15  0.65  0.00   0.15  0.65  0.95  0.00   0.14  0.64  0.00   \n",
      "28   T0043SB   0.11  0.90  0.00   0.11  0.90  0.95  0.00   0.11  0.90  0.00   \n",
      "29   T0045SB   0.15  0.88  0.00   0.23  0.88  0.83  0.00   0.19  0.88  0.00   \n",
      "..       ...    ...   ...   ...    ...   ...   ...   ...    ...   ...   ...   \n",
      "470   U303NB   0.12  0.81  0.00   0.12  0.81  0.95  0.00   0.12  0.80  0.00   \n",
      "471   U303SB   0.16  0.53  0.00   0.16  0.53  0.93  0.00   0.17  0.53  0.00   \n",
      "472   U307NB   0.34 -0.14  0.01   0.34 -0.14  0.82  0.01   0.35 -0.14  0.01   \n",
      "473   U307SB   0.21  0.32  0.00   0.20  0.32  0.79  0.00   0.20  0.31  0.00   \n",
      "474   U310NB   0.25  0.07  0.00   0.27  0.07  0.77  0.01   0.27  0.08  0.01   \n",
      "475   U313SB   0.18  0.20  0.00   0.18  0.20  0.91  0.00   0.18  0.20  0.00   \n",
      "476   U314NB   0.19  0.27  0.00   0.18  0.27  0.89  0.00   0.18  0.27  0.00   \n",
      "477   U319NB   0.18  0.48  0.00   0.18  0.48  0.91  0.00   0.17  0.48  0.00   \n",
      "478   U320NB   0.18  0.17  0.00   0.18  0.17  0.90  0.00   0.17  0.16  0.00   \n",
      "479   U320SB   0.24  0.18  0.00   0.23  0.18  0.86  0.00   0.22  0.18  0.00   \n",
      "480   U321SB   0.33  0.31  0.01   0.29  0.31  0.75  0.01   0.23  0.36  0.00   \n",
      "481   U324SB   0.75  0.35  0.03   0.60  0.35  0.32  0.02   0.58  0.28  0.02   \n",
      "482   U328NB   0.79 -0.14  0.03   0.73 -0.14  0.46  0.03   0.72 -0.13  0.03   \n",
      "483   U331NB   0.25  0.88  0.00   0.23  0.88  0.91  0.00   0.20  0.88  0.00   \n",
      "484   U332WB   0.16  0.31  0.00   0.15  0.31  0.98  0.00   0.17  0.30  0.00   \n",
      "485   U335SB   0.19  0.85  0.00   0.22  0.85  0.86  0.00   0.22  0.80  0.00   \n",
      "486   U338EB   0.08  0.75  0.00   0.09  0.75  0.97  0.00   0.09  0.75  0.00   \n",
      "487   U340SB   0.28  0.52  0.00   0.23  0.52  0.74  0.00   0.21  0.52  0.00   \n",
      "488   U342SB   0.14  0.91  0.00   0.12  0.91  0.94  0.00   0.14  0.87  0.00   \n",
      "489   U347NB   0.24  0.83  0.00   0.24  0.83  0.80  0.00   0.21  0.83  0.00   \n",
      "490   U352SB   0.26  0.72  0.00   0.24  0.72  0.90  0.00   0.25  0.72  0.00   \n",
      "491   U354WB   0.40  0.29  0.01   0.36  0.29  0.82  0.01   0.35  0.31  0.01   \n",
      "492   U356EB   0.14  0.68  0.00   0.15  0.68  0.96  0.00   0.16  0.68  0.00   \n",
      "493   U357EB   0.18  0.96  0.00   0.16  0.96  0.98  0.00   0.17  0.96  0.00   \n",
      "494   U357WB   0.16  0.50  0.00   0.14  0.50  0.98  0.00   0.15  0.50  0.00   \n",
      "495   U358WB   0.28  0.54  0.00   0.30  0.54  0.99  0.00   0.31  0.54  0.00   \n",
      "496   U360WB   0.23  0.25  0.00   0.23  0.25  0.97  0.00   0.23  0.25  0.00   \n",
      "497   U362WB   0.21  0.19  0.00   0.21  0.19  0.94  0.00   0.20  0.19  0.00   \n",
      "498   U365NB   0.32  0.87  0.01   0.29  0.87  0.79  0.01   0.30  0.87  0.01   \n",
      "499   U365SB   0.41  0.84  0.01   0.39  0.84  0.84  0.01   0.42  0.81  0.01   \n",
      "\n",
      "     RMSE4    r4    d4  Total        Vol_group  \n",
      "0     0.13  0.89  0.00  12786   10,000 ~49,999  \n",
      "1     0.11  0.65  0.00  10394   10,000 ~49,999  \n",
      "2     0.24  0.66  0.00  14191   10,000 ~49,999  \n",
      "3     0.13  0.80  0.00  13520   10,000 ~49,999  \n",
      "4     0.14  0.95  0.00  11086   10,000 ~49,999  \n",
      "5     0.14  0.41  0.00  12401   10,000 ~49,999  \n",
      "6     0.15  0.86  0.00  12216   10,000 ~49,999  \n",
      "7     0.22  0.74  0.00  12660   10,000 ~49,999  \n",
      "8     0.17  0.74  0.00  11680   10,000 ~49,999  \n",
      "9     0.22  0.38  0.00  24068   10,000 ~49,999  \n",
      "10    0.15  0.63  0.00  12379   10,000 ~49,999  \n",
      "11    0.53  0.57  0.01   6908      5,000~9,999  \n",
      "12    0.14  0.70  0.00  13742   10,000 ~49,999  \n",
      "13    0.13  0.91  0.00  17218   10,000 ~49,999  \n",
      "14    0.17  0.89  0.00  12405   10,000 ~49,999  \n",
      "15    0.23  0.48  0.00  11386   10,000 ~49,999  \n",
      "16    0.11  0.34  0.00  11132   10,000 ~49,999  \n",
      "17    0.19  0.67  0.00  10365   10,000 ~49,999  \n",
      "18    0.19  0.16  0.00  12638   10,000 ~49,999  \n",
      "19    0.17  0.36  0.00  13712   10,000 ~49,999  \n",
      "20    0.12  0.70  0.00  13401   10,000 ~49,999  \n",
      "21    0.23  0.80  0.00  20675   10,000 ~49,999  \n",
      "22    0.21  0.78  0.00  11068   10,000 ~49,999  \n",
      "23    0.20 -0.06  0.00  10797   10,000 ~49,999  \n",
      "24    0.23  0.52  0.00  10319   10,000 ~49,999  \n",
      "25    0.26  0.97  0.01   6861      5,000~9,999  \n",
      "26    0.17  0.31  0.00   7332      5,000~9,999  \n",
      "27    0.14  0.50  0.00   8771      5,000~9,999  \n",
      "28    0.17  0.75  0.00   8722      5,000~9,999  \n",
      "29    0.27  0.78  0.00   7857      5,000~9,999  \n",
      "..     ...   ...   ...    ...              ...  \n",
      "470   0.13  0.76  0.00   7795      5,000~9,999  \n",
      "471   0.25  0.37  0.00   7573      5,000~9,999  \n",
      "472   0.41 -0.26  0.01   2164      1,000~4,999  \n",
      "473   0.34 -0.18  0.01   2044      1,000~4,999  \n",
      "474   0.28  0.20  0.01   1509      1,000~4,999  \n",
      "475   0.21  0.19  0.00   9375      5,000~9,999  \n",
      "476   0.22 -0.05  0.00   7124      5,000~9,999  \n",
      "477   0.26  0.25  0.00   4879      1,000~4,999  \n",
      "478   0.22  0.21  0.00   4128      1,000~4,999  \n",
      "479   0.23  0.25  0.00   4221      1,000~4,999  \n",
      "480   0.27  0.33  0.01   1190      1,000~4,999  \n",
      "481   0.63  0.09  0.03    322  Less than 1,000  \n",
      "482   0.73 -0.18  0.03    397  Less than 1,000  \n",
      "483   0.20  0.87  0.00   3857      1,000~4,999  \n",
      "484   0.21  0.22  0.00  17512   10,000 ~49,999  \n",
      "485   0.26  0.69  0.00   3919      1,000~4,999  \n",
      "486   0.12  0.58  0.00  16269   10,000 ~49,999  \n",
      "487   0.27  0.05  0.00   2262      1,000~4,999  \n",
      "488   0.32  0.37  0.01   8873      5,000~9,999  \n",
      "489   0.24  0.69  0.00   1320      1,000~4,999  \n",
      "490   0.31  0.62  0.01   4460      1,000~4,999  \n",
      "491   0.36  0.29  0.01   1145      1,000~4,999  \n",
      "492   0.21  0.56  0.00   8441      5,000~9,999  \n",
      "493   0.18  0.94  0.00  12448   10,000 ~49,999  \n",
      "494   0.23  0.48  0.00  13497   10,000 ~49,999  \n",
      "495   0.36  0.58  0.00   9701      5,000~9,999  \n",
      "496   0.29  0.02  0.00   7322      5,000~9,999  \n",
      "497   0.25  0.13  0.00   9074      5,000~9,999  \n",
      "498   0.30  0.84  0.01   1242      1,000~4,999  \n",
      "499   0.47  0.70  0.01   1338      1,000~4,999  \n",
      "\n",
      "[500 rows x 16 columns]\n"
     ]
    },
    {
     "data": {
      "text/html": [
       "<div>\n",
       "<style scoped>\n",
       "    .dataframe tbody tr th:only-of-type {\n",
       "        vertical-align: middle;\n",
       "    }\n",
       "\n",
       "    .dataframe tbody tr th {\n",
       "        vertical-align: top;\n",
       "    }\n",
       "\n",
       "    .dataframe thead th {\n",
       "        text-align: right;\n",
       "    }\n",
       "</style>\n",
       "<table border=\"1\" class=\"dataframe\">\n",
       "  <thead>\n",
       "    <tr style=\"text-align: right;\">\n",
       "      <th></th>\n",
       "      <th>Vol_group</th>\n",
       "      <th>Loc_ID</th>\n",
       "      <th>RMSE1</th>\n",
       "      <th>r1</th>\n",
       "      <th>d1</th>\n",
       "      <th>RMSE2</th>\n",
       "      <th>r2</th>\n",
       "      <th>d2</th>\n",
       "      <th>RMSE3</th>\n",
       "      <th>r3</th>\n",
       "      <th>d3</th>\n",
       "      <th>RMSE4</th>\n",
       "      <th>r4</th>\n",
       "      <th>d4</th>\n",
       "    </tr>\n",
       "  </thead>\n",
       "  <tbody>\n",
       "    <tr>\n",
       "      <th>0</th>\n",
       "      <td>1,000~4,999</td>\n",
       "      <td>109</td>\n",
       "      <td>0.259083</td>\n",
       "      <td>0.452936</td>\n",
       "      <td>0.003211</td>\n",
       "      <td>0.251743</td>\n",
       "      <td>0.452936</td>\n",
       "      <td>0.003211</td>\n",
       "      <td>0.251651</td>\n",
       "      <td>0.448624</td>\n",
       "      <td>0.003028</td>\n",
       "      <td>0.291468</td>\n",
       "      <td>0.368073</td>\n",
       "      <td>0.004312</td>\n",
       "    </tr>\n",
       "    <tr>\n",
       "      <th>1</th>\n",
       "      <td>10,000 ~49,999</td>\n",
       "      <td>263</td>\n",
       "      <td>0.128213</td>\n",
       "      <td>0.723612</td>\n",
       "      <td>0.000190</td>\n",
       "      <td>0.130000</td>\n",
       "      <td>0.723612</td>\n",
       "      <td>0.000228</td>\n",
       "      <td>0.131863</td>\n",
       "      <td>0.720913</td>\n",
       "      <td>0.000228</td>\n",
       "      <td>0.158213</td>\n",
       "      <td>0.662205</td>\n",
       "      <td>0.000190</td>\n",
       "    </tr>\n",
       "    <tr>\n",
       "      <th>2</th>\n",
       "      <td>100,000 or more</td>\n",
       "      <td>7</td>\n",
       "      <td>0.064286</td>\n",
       "      <td>0.787143</td>\n",
       "      <td>0.000000</td>\n",
       "      <td>0.067143</td>\n",
       "      <td>0.787143</td>\n",
       "      <td>0.000000</td>\n",
       "      <td>0.065714</td>\n",
       "      <td>0.787143</td>\n",
       "      <td>0.000000</td>\n",
       "      <td>0.074286</td>\n",
       "      <td>0.728571</td>\n",
       "      <td>0.000000</td>\n",
       "    </tr>\n",
       "    <tr>\n",
       "      <th>3</th>\n",
       "      <td>5,000~9,999</td>\n",
       "      <td>87</td>\n",
       "      <td>0.174138</td>\n",
       "      <td>0.655747</td>\n",
       "      <td>0.001264</td>\n",
       "      <td>0.173678</td>\n",
       "      <td>0.655747</td>\n",
       "      <td>0.000920</td>\n",
       "      <td>0.178851</td>\n",
       "      <td>0.650575</td>\n",
       "      <td>0.000920</td>\n",
       "      <td>0.221839</td>\n",
       "      <td>0.560690</td>\n",
       "      <td>0.001724</td>\n",
       "    </tr>\n",
       "    <tr>\n",
       "      <th>4</th>\n",
       "      <td>50,000 ~99,999</td>\n",
       "      <td>14</td>\n",
       "      <td>0.090714</td>\n",
       "      <td>0.682143</td>\n",
       "      <td>0.000000</td>\n",
       "      <td>0.088571</td>\n",
       "      <td>0.682143</td>\n",
       "      <td>0.000000</td>\n",
       "      <td>0.090714</td>\n",
       "      <td>0.680000</td>\n",
       "      <td>0.000000</td>\n",
       "      <td>0.092857</td>\n",
       "      <td>0.638571</td>\n",
       "      <td>0.000000</td>\n",
       "    </tr>\n",
       "    <tr>\n",
       "      <th>5</th>\n",
       "      <td>Less than 1,000</td>\n",
       "      <td>20</td>\n",
       "      <td>0.564000</td>\n",
       "      <td>0.233000</td>\n",
       "      <td>0.021500</td>\n",
       "      <td>0.501000</td>\n",
       "      <td>0.233000</td>\n",
       "      <td>0.017000</td>\n",
       "      <td>0.507000</td>\n",
       "      <td>0.215500</td>\n",
       "      <td>0.018000</td>\n",
       "      <td>0.545500</td>\n",
       "      <td>0.196000</td>\n",
       "      <td>0.018500</td>\n",
       "    </tr>\n",
       "  </tbody>\n",
       "</table>\n",
       "</div>"
      ],
      "text/plain": [
       "         Vol_group  Loc_ID     RMSE1        r1        d1     RMSE2        r2  \\\n",
       "0      1,000~4,999     109  0.259083  0.452936  0.003211  0.251743  0.452936   \n",
       "1   10,000 ~49,999     263  0.128213  0.723612  0.000190  0.130000  0.723612   \n",
       "2  100,000 or more       7  0.064286  0.787143  0.000000  0.067143  0.787143   \n",
       "3      5,000~9,999      87  0.174138  0.655747  0.001264  0.173678  0.655747   \n",
       "4   50,000 ~99,999      14  0.090714  0.682143  0.000000  0.088571  0.682143   \n",
       "5  Less than 1,000      20  0.564000  0.233000  0.021500  0.501000  0.233000   \n",
       "\n",
       "         d2     RMSE3        r3        d3     RMSE4        r4        d4  \n",
       "0  0.003211  0.251651  0.448624  0.003028  0.291468  0.368073  0.004312  \n",
       "1  0.000228  0.131863  0.720913  0.000228  0.158213  0.662205  0.000190  \n",
       "2  0.000000  0.065714  0.787143  0.000000  0.074286  0.728571  0.000000  \n",
       "3  0.000920  0.178851  0.650575  0.000920  0.221839  0.560690  0.001724  \n",
       "4  0.000000  0.090714  0.680000  0.000000  0.092857  0.638571  0.000000  \n",
       "5  0.017000  0.507000  0.215500  0.018000  0.545500  0.196000  0.018500  "
      ]
     },
     "execution_count": 467,
     "metadata": {},
     "output_type": "execute_result"
    }
   ],
   "source": [
    "result = []\n",
    "groups = df2.groupby('Loc_ID')\n",
    "for n,g in groups:\n",
    "    #print('This is loc '+ str(n)+'.')\n",
    "    g.drop(g.columns[[97]], axis=1, inplace=True)\n",
    "    \n",
    "    g_o=g.set_index('Day').T\n",
    "    g_o.index = g_o.index.map(int)\n",
    "    \n",
    "    g1=g.set_index('Day').T\n",
    "    g1.index = g1.index.map(int)\n",
    "    \n",
    "    \n",
    "    #print('orginal: ')\n",
    "    #print(g_o)\n",
    "    \n",
    "    # Set basic parameters\n",
    "    proportion = 16/96\n",
    "    block_size = 16\n",
    "    number_of_samples = int((g1.shape[0] * proportion) / block_size)\n",
    "    \n",
    "    \n",
    "    # This will hold all indexes to be set to NaN\n",
    "    block_indexes = []\n",
    "\n",
    "    i = 0\n",
    "\n",
    "    # Iterate until number of samples are found\n",
    "    while i < number_of_samples:\n",
    "\n",
    "    # Choose a potential start and end\n",
    "         #potential_start = random.sample(list(g1.index), 1)[0]\n",
    "        potential_start = 32\n",
    "        potential_end = potential_start + block_size\n",
    "\n",
    "    # Flatten the list of lists\n",
    "        flattened_indexes = list(chain(*block_indexes))\n",
    "\n",
    "    # Check to make sure potential start and potential end are not already in the indexes\n",
    "        if potential_start not in flattened_indexes \\\n",
    "        and potential_end not in flattened_indexes:\n",
    "\n",
    "        # If they are not, append the block indexes\n",
    "             block_indexes.append(list(range(potential_start, potential_end)))\n",
    "             i += 1\n",
    "        \n",
    "    # Flatten the list of lists\n",
    "    #block_indexes = list(chain(*block_indexes))\n",
    "    block_indexes=range(32, 32+block_size)\n",
    "    \n",
    "    # Set the blocks to nan accounting for end of dataframe\n",
    "    g1.loc[[x for x in block_indexes if x in g1.index], 2] = np.nan\n",
    "    #print(\"missing:\")\n",
    "    #print(g1.loc[32:32+block_size-1])\n",
    "    #print('\\n')\n",
    "\n",
    "\n",
    "    g_combine=g1.merge(g_o, left_index=True, right_index=True) \n",
    "    g_combine2=g1.merge(g_o, left_index=True, right_index=True) \n",
    "    g_combine3=g1.merge(g_o, left_index=True, right_index=True) \n",
    "\n",
    "    \n",
    "    ##missing value imputation (Assumption: Day1 and Day2 should have the same pattern and similar volumme)\n",
    "    ##method 1: replace using the same value of another day\n",
    "    g_combine['2_x'] = np.where( np.isnan(g_combine['2_x']), g_combine['1_x'],  g_combine['2_x'])\n",
    "\n",
    "    #print(\"Combine:\")\n",
    "    #print(g_combine.loc[30:65])\n",
    "    \n",
    "    \n",
    "    rms1 = sqrt(mean_squared_error(g_combine['2_y'].loc[32:32+block_size-1], g_combine['2_x'].loc[32:32+block_size-1]))/stp.mean(g_combine['2_y'].loc[32:32+block_size-1])\n",
    "    \n",
    "    \n",
    "    #print(\"Mean Squre Error of method 1 is:\")\n",
    "    #print(rms1)\n",
    "    \n",
    "    g_combine_r=g_combine.loc[32:32+block_size-1]\n",
    "    r1=g_combine_r[['2_y','2_x']].corr().loc['2_x', '2_y'] \n",
    "    #print(\"Correlation Coefficient 1 is:\")\n",
    "    #print(r1)\n",
    "    \n",
    "    #d1 = distance.euclidean(g_combine['2_x'], g_combine['2_y'])\n",
    "    def chiSquared(p,q):\n",
    "        return 0.5*np.sum((p-q)**2/(p+q+1e-6))\n",
    "    d1=chiSquared(g_combine['2_x'],g_combine['2_y'])\n",
    "    \n",
    "    #~~~~~~~~~~~~~~~~~~~~~~~~~~~~~~~~~~~~~~~~~~~~~~~~~~~~~~~~~~~~~~~~~~~~~~~~~~~~~~~~~~~~~~~~~~~~~~~~~~~~~~~~~~~~~~~~\n",
    "    ##method 2: linear regression (Assume Day1 and Day2 have linear relationship)\n",
    "    #build a linear regression model based on the two days data, \n",
    "    # one as independent variable, another as dependent variables. \n",
    "    # then use the linear regression model to forecast the missing values \n",
    "    \n",
    "    f_df = g_combine2[g_combine2['2_x'].notnull()]    \n",
    "    X_reg = f_df.loc[:, '1_x'].to_frame()\n",
    "    Y_reg = f_df.loc[:, '2_x'].to_frame()\n",
    "    regr = linear_model.LinearRegression()\n",
    "    regr.fit(X_reg,Y_reg)\n",
    "    #abs_residuals = np.absolute(Y_reg - regr.predict(X_reg))\n",
    "    R2=regr.score(X_reg,Y_reg)\n",
    "    #print(abs_residuals)\n",
    "    \n",
    "    pred= pd.DataFrame(regr.predict(g_combine2['1_x'].reshape(-1, 1)))\n",
    "    pred.index += 1 \n",
    "    g_combine2=g_combine2.merge(pred, left_index=True, right_index=True) \n",
    "        \n",
    "    g_combine2['2_x'] = np.where( np.isnan(g_combine2['2_x']), g_combine2[0], g_combine2['2_x'])\n",
    "    #print(\"Combine2:\")\n",
    "    #print(g_combine2.loc[30:65])\n",
    "    \n",
    "    rms2 = sqrt(mean_squared_error(g_combine2['2_y'].loc[32:32+block_size-1], g_combine2['2_x'].loc[32:32+block_size-1]))/stp.mean(g_combine2['2_y'].loc[32:32+block_size-1])\n",
    "    #print(\"Mean Squre Error of method 2 is:\")\n",
    "    #print(rms1)\n",
    "    \n",
    "    g_combine2_r=g_combine2.loc[32:32+block_size-1]\n",
    "    r2=g_combine2_r[['2_y','2_x']].corr().loc['2_x', '2_y'] \n",
    "    #print(\"Correlation Coefficient 2 is:\")\n",
    "    #print(r2)\n",
    "    #print('\\n')\n",
    "    \n",
    "    #d2 = distance.euclidean(g_combine2['2_x'], g_combine2['2_y'])\n",
    "    d2=chiSquared(g_combine2['2_x'],g_combine2['2_y'])\n",
    "    \n",
    "    #~~~~~~~~~~~~~~~~~~~~~~~~~~~~~~~~~~~~~~~~~~~~~~~~~~~~~~~~~~~~~~~~~~~~~~~~~~~~~~~~~~~~~~~~~~~~~~~~~~~~~~~~~~~~~~~~\n",
    "    ##method 3: locally weighted linear regression\n",
    "    g_combine3=g1.merge(g_o, left_index=True, right_index=True) \n",
    "    s_df = g_combine3[g_combine3['2_x'].notnull()]\n",
    "    x = s_df['1_x']\n",
    "    y = s_df['2_x']\n",
    "    lowess = sm.nonparametric.lowess(y, x, frac=0.9)\n",
    "    #lowess\n",
    "    pred_l=pd.DataFrame(np.interp(g_combine3['1_x'], lowess[:,0], lowess[:,1]))\n",
    "    pred_l.index += 1 \n",
    "    #pred_l\n",
    "    g_combine3=g_combine3.merge(pred_l, left_index=True, right_index=True) \n",
    "    g_combine3['2_x'] = np.where( np.isnan(g_combine3['2_x']), g_combine3[0], g_combine3['2_x'])\n",
    "    #print(\"Combine3:\")\n",
    "    #print(g_combine3.loc[30:65])\n",
    "    \n",
    "    rms3 = sqrt(mean_squared_error(g_combine3['2_y'].loc[32:32+block_size-1], g_combine3['2_x'].loc[32:32+block_size-1]))/stp.mean(g_combine3['2_y'].loc[32:32+block_size-1]) \n",
    "    \n",
    "    g_combine3_r=g_combine3.loc[32:32+block_size-1]\n",
    "    r3=g_combine3_r[['2_y','2_x']].corr().loc['2_x', '2_y'] \n",
    "    #d3 = distance.euclidean(g_combine3['2_x'], g_combine3['2_y'])\n",
    "    d3=chiSquared(g_combine3['2_x'],g_combine3['2_y'])\n",
    "    \n",
    "    \n",
    "    #~~~~~~~~~~~~~~~~~~~~~~~~~~~~~~~~~~~~~~~~~~~~~~~~~~~~~~~~~~~~~~~~~~~~~~~~~~~~~~~~~~~~~~~~~~~~~~~~~~~~~~~~~~~~~~~~\n",
    "    #method4: \n",
    "    g_combine4=g1.merge(g_o, left_index=True, right_index=True)\n",
    "    k_df = g_combine4[g_combine4['2_x'].notnull()]    \n",
    "    X_reg = k_df.loc[:, '1_x'].to_frame()\n",
    "    Y_reg = k_df.loc[:, '2_x'].to_frame()\n",
    "    T=g_combine4['1_x'].reshape(-1, 1)\n",
    "\n",
    "    n_neighbors = 5\n",
    "    knn = neighbors.KNeighborsRegressor(n_neighbors, weights=weights)\n",
    "    pred_k = pd.DataFrame(knn.fit(X_reg, Y_reg).predict(T))\n",
    "    pred_k.index += 1 \n",
    "    \n",
    "    g_combine4=g_combine4.merge(pred_k, left_index=True, right_index=True) \n",
    "    g_combine4['2_x'] = np.where( np.isnan(g_combine4['2_x']), g_combine4[0], g_combine4['2_x'])\n",
    "    rms4 = sqrt(mean_squared_error(g_combine4['2_y'].loc[32:32+block_size-1], g_combine4['2_x'].loc[32:32+block_size-1]))/stp.mean(g_combine4['2_y'].loc[32:32+block_size-1])  \n",
    "    \n",
    "    g_combine4_r=g_combine4.loc[32:32+block_size-1]\n",
    "    r4=g_combine4_r[['2_y','2_x']].corr().loc['2_x', '2_y'] \n",
    "    d4=chiSquared(g_combine4['2_x'],g_combine4['2_y'])\n",
    "    \n",
    "    #print(\"Combine4:\")\n",
    "    #print(g_combine4.loc[30:65])\n",
    "    \n",
    "    \n",
    "    ###############\n",
    "    result.append([n, rms1,r1,d1, rms2,r2, R2, d2, rms3,r3, d3, rms4,r4, d4])\n",
    "    \n",
    "#~~~~~~~~~~~~~~~~~~~~~~~~~~~~~~~~~~~~~~~~~~~~~~~~~~~~~~~~~~~~~~~~~~~~~~~~~~~~~~~~~~~~~~~~~~~~~~~~~~~~~~~~~~~~~~~~                      \n",
    "df = pd.DataFrame(result).rename (columns={0: \"Loc_ID\", 1: \"RMSE1\", 2:'r1', 3:'d1' ,4:'RMSE2', 5:'r2', 6:'R^2', 7:'d2', 8:'RMSE3', 9:'r3', 10:'d3',11:'RMSE4', 12:'r4', 13:'d4'})\n",
    "t=df1[df1['Day']==1][['Loc_ID', 'Total']]\n",
    "df=df.merge(t)\n",
    "df['d1']=df['d1']/df['Total']\n",
    "df['d2']=df['d2']/df['Total']\n",
    "df['d3']=df['d3']/df['Total']\n",
    "df['d4']=df['d4']/df['Total']\n",
    "df=df.round(2)\n",
    "\n",
    "df['Vol_group'] = '100,000 or more'\n",
    "df.loc[df['Total']<=99999, 'Vol_group'] = '50,000 ~99,999'\n",
    "df.loc[df['Total']<=49999, 'Vol_group'] = '10,000 ~49,999'\n",
    "df.loc[df['Total']<=9999, 'Vol_group'] = '5,000~9,999'\n",
    "df.loc[df['Total']<=4999, 'Vol_group'] = '1,000~4,999'\n",
    "df.loc[df['Total']<1000, 'Vol_group'] = 'Less than 1,000'\n",
    "print(df)  \n",
    "\n",
    "\n",
    "df_END= df.groupby(['Vol_group']) \\\n",
    "       .agg({'Loc_ID': 'count', 'RMSE1':'mean', 'r1' :'mean'  , 'd1' :'mean' , 'RMSE2' :'mean' , 'r2':'mean' , 'd2' :'mean', 'RMSE3':'mean', 'r3':'mean' ,'d3' :'mean','RMSE4':'mean', 'r4':'mean' ,'d4' :'mean'}) \\\n",
    "       .reset_index()\n",
    "df_END    "
   ]
  },
  {
   "cell_type": "code",
   "execution_count": 453,
   "metadata": {},
   "outputs": [],
   "source": [
    "df_END.to_csv('resultd4.csv')"
   ]
  },
  {
   "cell_type": "markdown",
   "metadata": {},
   "source": [
    "# Appendix"
   ]
  },
  {
   "cell_type": "markdown",
   "metadata": {},
   "source": [
    "### Spline"
   ]
  },
  {
   "cell_type": "code",
   "execution_count": null,
   "metadata": {},
   "outputs": [],
   "source": [
    "#import matplotlib.pyplot as plt\n",
    "#### These methods rely on the assumption that adjacent observations are similar to one another.\n",
    "####These methods do not work well when this assumption is not valid, especially when the presence of strong seasonality. \n",
    "#s_df = g_combine3[g_combine3['2_x'].notnull()].sort_values(by=['1_x'])\n",
    "#plt.plot(g_combine3['1_x'], g_combine3['2_x'], 'b. ')\n",
    "#plt.xlabel('')\n",
    "#plt.ylabel('')\n",
    "#plt.show()\n",
    "#ys_interp = scipy.interpolate.UnivariateSpline(s_df['1_x'],s_df['2_x'],s=1)\n",
    "#g_combine3['2_x'] = np.where( np.isnan(g_combine3['2_x']), ys_interp( g_combine3['1_x']) ,  g_combine3['2_x'])\n",
    "\n",
    "\n"
   ]
  },
  {
   "cell_type": "markdown",
   "metadata": {},
   "source": [
    "### Check  missing data Pattern"
   ]
  },
  {
   "cell_type": "code",
   "execution_count": 238,
   "metadata": {},
   "outputs": [
    {
     "data": {
      "text/plain": [
       "<matplotlib.axes._subplots.AxesSubplot at 0x9bf1fd0>"
      ]
     },
     "execution_count": 238,
     "metadata": {},
     "output_type": "execute_result"
    },
    {
     "data": {
      "image/png": "[encoded data removed]",
      "text/plain": [
       "<matplotlib.figure.Figure at 0xe199710>"
      ]
     },
     "metadata": {},
     "output_type": "display_data"
    }
   ],
   "source": [
    "import matplotlib\n",
    "import missingno as msno\n",
    "%matplotlib inline\n",
    "\n",
    "missingdata_df = g1.columns[g1.isnull().any()].tolist()\n",
    "msno.matrix(g1[missingdata_df])"
   ]
  },
  {
   "cell_type": "markdown",
   "metadata": {},
   "source": [
    "### locally weighted regression"
   ]
  },
  {
   "cell_type": "code",
   "execution_count": 193,
   "metadata": {},
   "outputs": [
    {
     "data": {
      "image/png": "[encoded data removed]",
      "text/plain": [
       "<matplotlib.figure.Figure at 0xc995898>"
      ]
     },
     "metadata": {},
     "output_type": "display_data"
    }
   ],
   "source": [
    "import numpy as np\n",
    "import pylab as plt\n",
    "import statsmodels.api as sm\n",
    "s_df = g_combine3[g_combine3['2_x'].notnull()]\n",
    "x = s_df['1_x']\n",
    "y = s_df['2_x']\n",
    "lowess = sm.nonparametric.lowess(y, x, frac=0.3)\n",
    "\n",
    "plt.plot(x, y, '+')\n",
    "plt.plot(lowess[:, 0], lowess[:, 1])\n",
    "plt.show()"
   ]
  },
  {
   "cell_type": "markdown",
   "metadata": {},
   "source": [
    "4hour"
   ]
  },
  {
   "cell_type": "code",
   "execution_count": 190,
   "metadata": {
    "scrolled": true
   },
   "outputs": [
    {
     "data": {
      "image/png": "[encoded data removed]",
      "text/plain": [
       "<matplotlib.figure.Figure at 0xe14ca20>"
      ]
     },
     "metadata": {},
     "output_type": "display_data"
    }
   ],
   "source": [
    "plt.plot(x, y, '+')\n",
    "plt.plot(lowess[:, 0], lowess[:, 1])\n",
    "plt.show()"
   ]
  },
  {
   "cell_type": "markdown",
   "metadata": {},
   "source": [
    "8 hour"
   ]
  },
  {
   "cell_type": "code",
   "execution_count": 188,
   "metadata": {},
   "outputs": [
    {
     "data": {
      "image/png": "[encoded data removed]",
      "text/plain": [
       "<matplotlib.figure.Figure at 0xe16b748>"
      ]
     },
     "metadata": {},
     "output_type": "display_data"
    }
   ],
   "source": [
    "plt.plot(x, y, '+')\n",
    "plt.plot(lowess[:, 0], lowess[:, 1])\n",
    "plt.show()"
   ]
  },
  {
   "cell_type": "markdown",
   "metadata": {},
   "source": [
    "### linear regression "
   ]
  },
  {
   "cell_type": "code",
   "execution_count": 10,
   "metadata": {
    "scrolled": true
   },
   "outputs": [
    {
     "name": "stderr",
     "output_type": "stream",
     "text": [
      "C:\\ProgramData\\Anaconda3\\lib\\site-packages\\ipykernel_launcher.py:9: FutureWarning: reshape is deprecated and will raise in a subsequent release. Please use .values.reshape(...) instead\n",
      "  if __name__ == '__main__':\n"
     ]
    },
    {
     "data": {
      "image/png": "[encoded data removed]",
      "text/plain": [
       "<matplotlib.figure.Figure at 0xc3dc320>"
      ]
     },
     "metadata": {},
     "output_type": "display_data"
    }
   ],
   "source": [
    "    g_combine2=g1.merge(g_o, left_index=True, right_index=True)\n",
    "    f_df = g_combine2[g_combine2['2_x'].notnull()]    \n",
    "    X_reg = f_df.loc[:, '1_x'].to_frame()\n",
    "    Y_reg = f_df.loc[:, '2_x'].to_frame()\n",
    "    regr = linear_model.LinearRegression()\n",
    "    regr.fit(X_reg,Y_reg)\n",
    "    #abs_residuals = np.absolute(Y_reg - regr.predict(X_reg))\n",
    "    R2=regr.score(X_reg,Y_reg)\n",
    "    #print(abs_residuals)\n",
    "    pred= pd.DataFrame(regr.predict(g_combine2['1_x'].reshape(-1, 1)))\n",
    "    g_combine2=g_combine2.merge(pred, left_index=True, right_index=True) \n",
    " \n",
    "    plt.plot(X_reg, Y_reg, '+')\n",
    "    plt.plot(X_reg,pred)\n",
    "    plt.show()"
   ]
  },
  {
   "cell_type": "markdown",
   "metadata": {},
   "source": [
    "### Nearest Neighbors regression"
   ]
  },
  {
   "cell_type": "code",
   "execution_count": 290,
   "metadata": {},
   "outputs": [
    {
     "name": "stderr",
     "output_type": "stream",
     "text": [
      "C:\\ProgramData\\Anaconda3\\lib\\site-packages\\ipykernel_launcher.py:10: FutureWarning: reshape is deprecated and will raise in a subsequent release. Please use .values.reshape(...) instead\n",
      "  # Remove the CWD from sys.path while we load stuff.\n"
     ]
    }
   ],
   "source": [
    "# Generate sample data\n",
    "import numpy as np\n",
    "import matplotlib.pyplot as plt\n",
    "from sklearn import neighbors\n",
    "\n",
    "g_combine4=g1.merge(g_o, left_index=True, right_index=True)\n",
    "k_df = g_combine4[g_combine4['2_x'].notnull()]    \n",
    "X_reg = k_df.loc[:, '1_x'].to_frame()\n",
    "Y_reg = k_df.loc[:, '2_x'].to_frame()\n",
    "T=g_combine4['1_x'].reshape(-1, 1)\n",
    "\n",
    "n_neighbors = 5\n",
    "knn = neighbors.KNeighborsRegressor(n_neighbors, weights=weights)\n",
    "y_ = knn.fit(X_reg, Y_reg).predict(T)\n",
    "\n",
    "\n",
    "#n_neighbors = 5\n",
    "#for i, weights in enumerate(['uniform', 'distance']):\n",
    "#    knn = neighbors.KNeighborsRegressor(n_neighbors, weights=weights)\n",
    "#    y_ = knn.fit(X_reg, Y_reg).predict(T)\n",
    "#    plt.figure(figsize=(30,10))\n",
    "#    plt.subplot(2, 1, i + 1)\n",
    "#    plt.scatter(X_reg, Y_reg, c='k', label='data')\n",
    "#    plt.plot(T, y_, c='g', label='prediction')\n",
    "#    plt.axis('tight')\n",
    "#    plt.legend()\n",
    "#    plt.title(\"KNeighborsRegressor (k = %i, weights = '%s')\" % (n_neighbors,weights))\n",
    "                                                                \n",
    "\n",
    "#plt.show()\n",
    "    \n",
    "    \n",
    "    "
   ]
  },
  {
   "cell_type": "code",
   "execution_count": 272,
   "metadata": {},
   "outputs": [
    {
     "data": {
      "text/plain": [
       "[<matplotlib.lines.Line2D at 0x10528fd0>]"
      ]
     },
     "execution_count": 272,
     "metadata": {},
     "output_type": "execute_result"
    },
    {
     "data": {
      "image/png": "[encoded data removed]",
      "text/plain": [
       "<matplotlib.figure.Figure at 0x133def98>"
      ]
     },
     "metadata": {},
     "output_type": "display_data"
    }
   ],
   "source": [
    "plt.plot(X_reg, Y_reg, '+')"
   ]
  },
  {
   "cell_type": "code",
   "execution_count": 285,
   "metadata": {
    "scrolled": true
   },
   "outputs": [
    {
     "data": {
      "text/plain": [
       "<matplotlib.collections.PathCollection at 0xe19b438>"
      ]
     },
     "execution_count": 285,
     "metadata": {},
     "output_type": "execute_result"
    },
    {
     "data": {
      "image/png": "[encoded data removed]",
      "text/plain": [
       "<matplotlib.figure.Figure at 0x1194f128>"
      ]
     },
     "metadata": {},
     "output_type": "display_data"
    }
   ],
   "source": [
    "plt.figure(figsize=(30,10))\n",
    "plt.scatter(X_reg, Y_reg)"
   ]
  },
  {
   "cell_type": "code",
   "execution_count": 363,
   "metadata": {},
   "outputs": [
    {
     "name": "stderr",
     "output_type": "stream",
     "text": [
      "C:\\ProgramData\\Anaconda3\\lib\\site-packages\\ipykernel_launcher.py:2: SettingWithCopyWarning: \n",
      "A value is trying to be set on a copy of a slice from a DataFrame\n",
      "\n",
      "See the caveats in the documentation: http://pandas.pydata.org/pandas-docs/stable/indexing.html#indexing-view-versus-copy\n",
      "  \n"
     ]
    },
    {
     "data": {
      "text/plain": [
       "[<matplotlib.lines.Line2D at 0x1353ccc0>,\n",
       " <matplotlib.lines.Line2D at 0x1353c208>]"
      ]
     },
     "execution_count": 363,
     "metadata": {},
     "output_type": "execute_result"
    },
    {
     "data": {
      "image/png": "[encoded data removed]",
      "text/plain": [
       "<matplotlib.figure.Figure at 0xfbd30b8>"
      ]
     },
     "metadata": {},
     "output_type": "display_data"
    }
   ],
   "source": [
    "tt=df2.loc[df2['Loc_ID'] == 'U016SB']\n",
    "tt.drop(tt.columns[[97]], axis=1, inplace=True)\n",
    "tt=tt.set_index('Day').T\n",
    "tt.index = tt.index.map(int)\n",
    "plt.plot(tt)"
   ]
  },
  {
   "cell_type": "code",
   "execution_count": 458,
   "metadata": {},
   "outputs": [],
   "source": [
    "r2=g_combine2_r[['2_y','2_x']].corr().loc['2_x', '2_y'] "
   ]
  },
  {
   "cell_type": "code",
   "execution_count": 472,
   "metadata": {},
   "outputs": [
    {
     "data": {
      "text/plain": [
       "0.8408163469577135"
      ]
     },
     "execution_count": 472,
     "metadata": {},
     "output_type": "execute_result"
    }
   ],
   "source": [
    "r2"
   ]
  },
  {
   "cell_type": "code",
   "execution_count": 473,
   "metadata": {},
   "outputs": [
    {
     "data": {
      "text/plain": [
       "0.8408163469577133"
      ]
     },
     "execution_count": 473,
     "metadata": {},
     "output_type": "execute_result"
    }
   ],
   "source": [
    "r1"
   ]
  },
  {
   "cell_type": "code",
   "execution_count": null,
   "metadata": {},
   "outputs": [],
   "source": []
  }
 ],
 "metadata": {
  "kernelspec": {
   "display_name": "Python 3",
   "language": "python",
   "name": "python3"
  },
  "language_info": {
   "codemirror_mode": {
    "name": "ipython",
    "version": 3
   },
   "file_extension": ".py",
   "mimetype": "text/x-python",
   "name": "python",
   "nbconvert_exporter": "python",
   "pygments_lexer": "ipython3",
   "version": "3.6.4"
  }
 },
 "nbformat": 4,
 "nbformat_minor": 1
}
